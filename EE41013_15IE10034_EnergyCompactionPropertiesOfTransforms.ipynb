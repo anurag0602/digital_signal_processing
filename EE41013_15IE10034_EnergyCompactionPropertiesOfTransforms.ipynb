{
 "cells": [
  {
   "cell_type": "code",
   "execution_count": 3,
   "metadata": {
    "collapsed": true
   },
   "outputs": [],
   "source": [
    "# import libraries"
   ]
  },
  {
   "cell_type": "code",
   "execution_count": 4,
   "metadata": {
    "collapsed": true
   },
   "outputs": [],
   "source": [
    "import numpy as np\n",
    "from __future__ import division\n",
    "import matplotlib.pyplot as plt\n",
    "import sys\n",
    "import cmath\n",
    "import math"
   ]
  },
  {
   "cell_type": "code",
   "execution_count": 5,
   "metadata": {
    "collapsed": true
   },
   "outputs": [],
   "source": [
    "def idft(N):\n",
    "    idft_matrix=np.empty([N,N],dtype=np.complex_)\n",
    "    idft_matrix=np.matrix(idft_matrix)\n",
    "    indices=np.arange(0,N,1)\n",
    "    for k in indices:\n",
    "        for n in indices:\n",
    "            idft_matrix[k,n]=np.exp((1j)*2*np.pi*k*n/N)\n",
    "    idft_matrix=idft_matrix/N        \n",
    "    return idft_matrix\n",
    "\n",
    "def dft(N):\n",
    "    dft_matrix=np.empty([N,N],dtype=np.complex_)\n",
    "    dft_matrix=np.matrix(dft_matrix)\n",
    "    indices=np.arange(0,N,1)\n",
    "    for k in indices:\n",
    "        for n in indices:\n",
    "            dft_matrix[k,n]=np.exp(-(1j)*2*np.pi*k*n/N)\n",
    "        \n",
    "    return dft_matrix\n",
    "\n",
    "def dcft(N):\n",
    "    dcft_matrix=np.empty([N,N],dtype=np.complex_)\n",
    "    dcft_matrix=np.matrix(dcft_matrix)\n",
    "    indices=np.arange(0,N,1)\n",
    "    for k in indices:\n",
    "        for n in indices:\n",
    "            dcft_matrix[k,n]=2*np.cos(np.pi*k*(2*n+1)/(2*N))\n",
    "        \n",
    "    return dcft_matrix\n",
    "\n",
    "def idcft(N):\n",
    "    idcft_matrix=np.empty([N,N],dtype=np.complex_)\n",
    "    idcft_matrix=np.matrix(idcft_matrix)\n",
    "    indices=np.arange(0,N,1)\n",
    "    for k in indices: \n",
    "        for n in indices:\n",
    "            if n==0:\n",
    "                alpha=0.5\n",
    "            else:\n",
    "                alpha=1\n",
    "            idcft_matrix[k,n]=alpha*np.cos(np.pi*n*(2*k+1)/(2*N))\n",
    "    idcft_matrix=idcft_matrix/N\n",
    "    return idcft_matrix\n",
    "\n",
    "def haar(N):\n",
    "    if N==2:\n",
    "        h2=np.matrix([[1,1],[1,-1]])/math.sqrt(2)\n",
    "        return h2\n",
    "    v=np.log2(N)-1\n",
    "    hn2=haar(N/2)\n",
    "    result1=np.concatenate((hn2,hn2),axis=1)\n",
    "    matrix1=(pow(2,v/2))*np.identity(int(N/2))\n",
    "    result2=np.concatenate((matrix1,-matrix1),axis=1)\n",
    "    return np.concatenate((result1,result2),axis=0)\n",
    "   \n",
    "def ihaar(N):\n",
    "    haar_matrix=haar(N)\n",
    "    return np.transpose(haar_matrix)/N\n",
    "\n",
    "def transform(transform_type,x):\n",
    "    N=len(x)\n",
    "    if transform_type==0:\n",
    "        gtm=dft(N)\n",
    "    if transform_type==1:\n",
    "        gtm=dcft(N)\n",
    "    if transform_type==2:\n",
    "        gtm=haar(N)\n",
    "    return gtm*x    \n",
    "        \n",
    "def inverse_transform(transform_type,X):\n",
    "    N=len(X)\n",
    "    if transform_type==0:\n",
    "        igtm=idft(N)\n",
    "    if transform_type==1:\n",
    "        igtm=idcft(N)\n",
    "    if transform_type==2:\n",
    "        igtm=ihaar(N)\n",
    "    return igtm*X       \n",
    "\n",
    "def dot_product(x,y,N):\n",
    "    err=x-y\n",
    "    errt=np.transpose(err)\n",
    "    errt=np.conjugate(errt)\n",
    "    \n",
    "    return errt*err/N\n",
    "\n",
    "def xmdft(X,L,N):\n",
    "    for i in range(int((N+1-L)/2),int((N-1+L)/2)+1,1):\n",
    "        X[i]=0\n",
    "    return X    \n",
    "\n",
    "def  xdcthaar(X,L,N):\n",
    "    for i in range(N-L,N):\n",
    "        X[i]=0\n",
    "    return X    \n",
    "\n",
    "def mse(transform_type,x,X,N):\n",
    "    err=[]\n",
    "    for l in range(0,N,1):\n",
    "        if transform_type==0:\n",
    "            Xm=xmdft(X,l,N)\n",
    "            xm=inverse_transform(0,Xm)\n",
    "        if transform_type==1:\n",
    "            Xm=xdcthaar(X,l,N)\n",
    "            xm=inverse_transform(1,Xm)\n",
    "        if transform_type==2:\n",
    "            Xm=xdcthaar(X,l,N)\n",
    "            xm=inverse_transform(2,Xm)\n",
    "        err=np.append(err,dot_product(x,xm,N))\n",
    "    return err "
   ]
  },
  {
   "cell_type": "code",
   "execution_count": 10,
   "metadata": {},
   "outputs": [
    {
     "name": "stderr",
     "output_type": "stream",
     "text": [
      "C:\\ProgramData\\Anaconda3\\lib\\site-packages\\numpy\\core\\numeric.py:492: ComplexWarning: Casting complex values to real discards the imaginary part\n",
      "  return array(a, dtype, copy=False, order=order)\n"
     ]
    },
    {
     "data": {
      "image/png": "[encoded data removed]",
      "text/plain": [
       "<Figure size 432x288 with 1 Axes>"
      ]
     },
     "metadata": {},
     "output_type": "display_data"
    }
   ],
   "source": [
    "# Main Code\n",
    "length=64\n",
    "real=np.random.rand(length)\n",
    "img=np.random.rand(length)\n",
    "x=real+1j*img\n",
    "x=np.matrix(x)\n",
    "x=np.transpose(x)\n",
    "color=['r','g','b']\n",
    "for i in range(0,3,1):\n",
    "    X=transform(i,x)\n",
    "    err=mse(i,x,X,length)\n",
    "    plt.plot(np.arange(0,length,1),err,color[i])\n",
    "plt.show()\n",
    "\n"
   ]
  },
  {
   "cell_type": "code",
   "execution_count": null,
   "metadata": {
    "collapsed": true
   },
   "outputs": [],
   "source": []
  }
 ],
 "metadata": {
  "kernelspec": {
   "display_name": "Python 3",
   "language": "python",
   "name": "python3"
  },
  "language_info": {
   "codemirror_mode": {
    "name": "ipython",
    "version": 3
   },
   "file_extension": ".py",
   "mimetype": "text/x-python",
   "name": "python",
   "nbconvert_exporter": "python",
   "pygments_lexer": "ipython3",
   "version": "3.6.3"
  }
 },
 "nbformat": 4,
 "nbformat_minor": 2
}
