{
 "cells": [
  {
   "cell_type": "code",
   "execution_count": 1,
   "metadata": {
    "collapsed": true
   },
   "outputs": [],
   "source": [
    "import numpy as np\n",
    "from __future__ import division\n",
    "import matplotlib.pyplot as plt\n",
    "import sys\n",
    "import cmath\n",
    "import math\n",
    "from scipy.io import wavfile\n",
    "import scipy.fftpack\n",
    "import pywt"
   ]
  },
  {
   "cell_type": "code",
   "execution_count": 2,
   "metadata": {
    "collapsed": true
   },
   "outputs": [],
   "source": [
    "def  xdcthaar(X,L,N):\n",
    "    for i in range(N-L,N):\n",
    "        X[i]=0\n",
    "    return X    "
   ]
  },
  {
   "cell_type": "code",
   "execution_count": 3,
   "metadata": {
    "collapsed": true
   },
   "outputs": [],
   "source": [
    "def samples_from_wav():\n",
    "    rate,array=wavfile.read(\"fanfare3.wav\")\n",
    "    #print(rate)\n",
    "    result=array[0:4100]\n",
    "    return result    "
   ]
  },
  {
   "cell_type": "code",
   "execution_count": 4,
   "metadata": {
    "collapsed": true
   },
   "outputs": [],
   "source": [
    "def compressor(x,L,file_name):\n",
    "    N=x.shape[0]\n",
    "    b=32\n",
    "    M=N-L\n",
    "    for i in range(1,2,1):\n",
    "        X=scipy.fftpack.dct(x)\n",
    "        f=open(file_name,'w+')\n",
    "        f.write(\"%d\\n\" %N)\n",
    "        f.write(\"%d\\n\" %M)\n",
    "        for i in range(M):\n",
    "            f.write(\"%f\\n\" %X[i])\n",
    "        f.close()\n",
    "        Xm=xdcthaar(X,L,N)\n",
    "        xm=scipy.fftpack.idct(Xm,norm=\"ortho\")\n",
    "        print(xm)\n",
    "           \n",
    "    "
   ]
  },
  {
   "cell_type": "code",
   "execution_count": 5,
   "metadata": {
    "collapsed": true
   },
   "outputs": [],
   "source": [
    "def decompressor(file_name):\n",
    "    f=open(file_name,\"r\")\n",
    "    contents=f.readlines()\n",
    "    N=int(contents[0].strip('\\n'))\n",
    "    M=int(contents[1].strip('\\n'))\n",
    "    contents=contents[2:]\n",
    "    array=[]\n",
    "    for i in contents:\n",
    "        array=np.append(array,float(i.strip('\\n')))\n",
    "    for i in range(M,N,1):\n",
    "        array=np.append(array,0)\n",
    "\n",
    "    #print(array.shape)    \n",
    "    xm=scipy.fftpack.idct(array,norm=\"ortho\")\n",
    "    print(xm)"
   ]
  },
  {
   "cell_type": "code",
   "execution_count": 6,
   "metadata": {},
   "outputs": [
    {
     "name": "stdout",
     "output_type": "stream",
     "text": [
      "[  2072.84086472   1983.65589651   2071.49453158 ... 420296.1726141\n",
      " 483122.6579187  612849.72954286]\n",
      "[  2072.84086424   1983.65589656   2071.49453193 ... 420296.17261379\n",
      " 483122.65791891 612849.72954319]\n"
     ]
    }
   ],
   "source": [
    "#driver program\n",
    "L=200\n",
    "file_name=\"compressed.txt\"\n",
    "x=samples_from_wav()\n",
    "compressor(x,L,file_name)\n",
    "decompressor(file_name)"
   ]
  }
 ],
 "metadata": {
  "kernelspec": {
   "display_name": "Python 3",
   "language": "python",
   "name": "python3"
  },
  "language_info": {
   "codemirror_mode": {
    "name": "ipython",
    "version": 3
   },
   "file_extension": ".py",
   "mimetype": "text/x-python",
   "name": "python",
   "nbconvert_exporter": "python",
   "pygments_lexer": "ipython3",
   "version": "3.6.3"
  }
 },
 "nbformat": 4,
 "nbformat_minor": 2
}
